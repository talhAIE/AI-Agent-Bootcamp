{
 "cells": [
  {
   "cell_type": "markdown",
   "id": "00e26ba7",
   "metadata": {},
   "source": [
    "### Build a Simple LLM Application with LCEL\n",
    "In this quickstart we'll show you how to build a simple LLM application with LangChain. This application will translate text from English into another language. This is a relatively simple LLM application - it's just a single LLM call plus some prompting. Still, this is a great way to get started with LangChain - a lot of features can be built with just some prompting and an LLM call!\n",
    "\n",
    "After seeing this video, you'll have a high level overview of:\n",
    "\n",
    "- Using language models\n",
    "\n",
    "- Using PromptTemplates and OutputParsers\n",
    "\n",
    "- Using LangChain Expression Language (LCEL) to chain components together\n",
    "\n",
    "- Debugging and tracing your application using LangSmith\n",
    "\n",
    "- Deploying your application with LangServe"
   ]
  },
  {
   "cell_type": "code",
   "execution_count": 1,
   "id": "d4eef8d0",
   "metadata": {},
   "outputs": [
    {
     "data": {
      "text/plain": [
       "True"
      ]
     },
     "execution_count": 1,
     "metadata": {},
     "output_type": "execute_result"
    }
   ],
   "source": [
    "from dotenv import load_dotenv\n",
    "load_dotenv()"
   ]
  },
  {
   "cell_type": "code",
   "execution_count": 2,
   "id": "7d0d84c0",
   "metadata": {},
   "outputs": [],
   "source": [
    "from langchain_groq import ChatGroq\n",
    "\n",
    "llm=ChatGroq(\n",
    "    model=\"llama-3.3-70b-versatile\"\n",
    ")"
   ]
  },
  {
   "cell_type": "code",
   "execution_count": 4,
   "id": "d89a26f1",
   "metadata": {},
   "outputs": [
    {
     "data": {
      "text/plain": [
       "\"LangChain is an open-source framework designed to help developers build applications that utilize large language models (LLMs) more effectively. It was created to simplify the process of integrating LLMs into various projects, providing a set of tools and libraries that make it easier to work with these powerful AI models.\\n\\nLangChain's primary goal is to enable developers to focus on building their applications without having to worry about the complexities of working with LLMs. The framework provides a set of pre-built components, APIs, and tools that can be used to interact with LLMs, making it easier to:\\n\\n1. **Query LLMs**: Send requests to LLMs and receive responses in a standardized format.\\n2. **Manage LLM outputs**: Process, filter, and manipulate the outputs from LLMs to suit specific application needs.\\n3. **Integrate with other AI models**: Combine LLMs with other AI models, such as computer vision or speech recognition models, to create more comprehensive applications.\\n4. **Develop custom applications**: Build custom applications that leverage the capabilities of LLMs, such as chatbots, language translation tools, or content generation platforms.\\n\\nSome key features of LangChain include:\\n\\n1. **Modular architecture**: LangChain is designed to be modular, allowing developers to pick and choose the components they need for their specific application.\\n2. **Support for multiple LLMs**: LangChain supports a range of LLMs, including popular models like BERT, RoBERTa, and Transformers.\\n3. **API-based interface**: LangChain provides a simple, API-based interface for interacting with LLMs, making it easy to integrate with other applications and services.\\n4. **Extensive documentation and community**: LangChain has an active community and extensive documentation, making it easier for developers to get started and find help when needed.\\n\\nOverall, LangChain aims to democratize access to LLMs, enabling more developers to build innovative applications that leverage the power of these advanced AI models.\""
      ]
     },
     "execution_count": 4,
     "metadata": {},
     "output_type": "execute_result"
    }
   ],
   "source": [
    "llm.invoke(\"What is langchain\").content"
   ]
  },
  {
   "cell_type": "code",
   "execution_count": null,
   "id": "d37f5b08",
   "metadata": {},
   "outputs": [],
   "source": [
    "from langchain_core.messages import HumanMessage,SystemMessage,AIMessage\n",
    "user_message=\"Hello My name is Talha\"\n",
    "message=[\n",
    "    SystemMessage(content=\"Translate the following text from English to Urdu\"),\n",
    "    HumanMessage(content=user_message)\n",
    "]\n",
    "result=llm.invoke(message).content"
   ]
  },
  {
   "cell_type": "code",
   "execution_count": 15,
   "id": "bff58f04",
   "metadata": {},
   "outputs": [
    {
     "data": {
      "text/plain": [
       "'ہیلو، میرا نام طلحہ ہے۔'"
      ]
     },
     "execution_count": 15,
     "metadata": {},
     "output_type": "execute_result"
    }
   ],
   "source": [
    "result"
   ]
  },
  {
   "cell_type": "code",
   "execution_count": 16,
   "id": "956bc290",
   "metadata": {},
   "outputs": [],
   "source": [
    "from langchain_core.output_parsers import StrOutputParser\n",
    "\n",
    "parser=StrOutputParser()"
   ]
  },
  {
   "cell_type": "code",
   "execution_count": 17,
   "id": "da0ef08a",
   "metadata": {},
   "outputs": [
    {
     "data": {
      "text/plain": [
       "'ہیلو، میرا نام طلحہ ہے۔'"
      ]
     },
     "execution_count": 17,
     "metadata": {},
     "output_type": "execute_result"
    }
   ],
   "source": [
    "parser.invoke(result)"
   ]
  },
  {
   "cell_type": "code",
   "execution_count": 22,
   "id": "d6143cf0",
   "metadata": {},
   "outputs": [
    {
     "data": {
      "text/plain": [
       "\"Hello Talha, it's nice to meet you. Is there something I can help you with or would you like to chat?\""
      ]
     },
     "execution_count": 22,
     "metadata": {},
     "output_type": "execute_result"
    }
   ],
   "source": [
    "# LCEL\n",
    "chain= llm | parser\n",
    "chain.invoke(user_message)\n"
   ]
  },
  {
   "cell_type": "code",
   "execution_count": 23,
   "id": "28176c4c",
   "metadata": {},
   "outputs": [],
   "source": [
    "## Prompt Templates\n",
    "from langchain_core.prompts import ChatPromptTemplate\n",
    "\n",
    "generic_template=\"Translate the following text into {language}\"\n",
    "\n",
    "prompt=ChatPromptTemplate.from_messages(\n",
    "    [\n",
    "        (\"system\",generic_template),\n",
    "        (\"user\",\"{text}\")\n",
    "    ]\n",
    ")"
   ]
  },
  {
   "cell_type": "code",
   "execution_count": 26,
   "id": "9c814974",
   "metadata": {},
   "outputs": [],
   "source": [
    "result=prompt.invoke(\n",
    "    {\"language\":\"urdu\",\n",
    "    \"text\":\"hello my name is talha\"}\n",
    ")"
   ]
  },
  {
   "cell_type": "code",
   "execution_count": 27,
   "id": "3851fd29",
   "metadata": {},
   "outputs": [
    {
     "data": {
      "text/plain": [
       "ChatPromptValue(messages=[SystemMessage(content='Translate the following text into urdu', additional_kwargs={}, response_metadata={}), HumanMessage(content='hello my name is talha', additional_kwargs={}, response_metadata={})])"
      ]
     },
     "execution_count": 27,
     "metadata": {},
     "output_type": "execute_result"
    }
   ],
   "source": [
    "result"
   ]
  },
  {
   "cell_type": "code",
   "execution_count": 28,
   "id": "319c9440",
   "metadata": {},
   "outputs": [
    {
     "data": {
      "text/plain": [
       "[SystemMessage(content='Translate the following text into urdu', additional_kwargs={}, response_metadata={}),\n",
       " HumanMessage(content='hello my name is talha', additional_kwargs={}, response_metadata={})]"
      ]
     },
     "execution_count": 28,
     "metadata": {},
     "output_type": "execute_result"
    }
   ],
   "source": [
    "result.to_messages()"
   ]
  },
  {
   "cell_type": "code",
   "execution_count": 29,
   "id": "efd63d16",
   "metadata": {},
   "outputs": [
    {
     "data": {
      "text/plain": [
       "'ہیلو میرا نام طلحہ ہے'"
      ]
     },
     "execution_count": 29,
     "metadata": {},
     "output_type": "execute_result"
    }
   ],
   "source": [
    "chain= prompt | llm | parser\n",
    "chain.invoke({\n",
    "    \"language\":\"urdu\",\n",
    "    \"text\":\"Hello My name is Talha\"\n",
    "})"
   ]
  },
  {
   "cell_type": "code",
   "execution_count": null,
   "id": "f8ef5e90",
   "metadata": {},
   "outputs": [],
   "source": []
  }
 ],
 "metadata": {
  "kernelspec": {
   "display_name": "venv",
   "language": "python",
   "name": "python3"
  },
  "language_info": {
   "codemirror_mode": {
    "name": "ipython",
    "version": 3
   },
   "file_extension": ".py",
   "mimetype": "text/x-python",
   "name": "python",
   "nbconvert_exporter": "python",
   "pygments_lexer": "ipython3",
   "version": "3.13.2"
  }
 },
 "nbformat": 4,
 "nbformat_minor": 5
}
