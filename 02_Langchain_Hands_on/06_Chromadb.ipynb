{
 "cells": [
  {
   "cell_type": "markdown",
   "id": "3d57b166",
   "metadata": {},
   "source": [
    "# Chroma\n",
    "\n",
    "Chroma is a Ai-native open-source vector database focused on developer productivity and happiness. Chroma is licensed under Apache 2.o"
   ]
  },
  {
   "cell_type": "code",
   "execution_count": 1,
   "id": "eced8608",
   "metadata": {},
   "outputs": [
    {
     "data": {
      "text/plain": [
       "True"
      ]
     },
     "execution_count": 1,
     "metadata": {},
     "output_type": "execute_result"
    }
   ],
   "source": [
    "from dotenv import load_dotenv\n",
    "load_dotenv()"
   ]
  },
  {
   "cell_type": "code",
   "execution_count": 11,
   "id": "5e93e6b4",
   "metadata": {},
   "outputs": [],
   "source": [
    "from langchain_community.document_loaders import TextLoader\n",
    "from langchain_text_splitters import RecursiveCharacterTextSplitter\n",
    "from langchain_openai import OpenAIEmbeddings\n",
    "from langchain_community.vectorstores import Chroma"
   ]
  },
  {
   "cell_type": "code",
   "execution_count": 3,
   "id": "99a50ac4",
   "metadata": {},
   "outputs": [],
   "source": [
    "loader=TextLoader('sample.txt')\n",
    "doc=loader.load()\n"
   ]
  },
  {
   "cell_type": "code",
   "execution_count": 6,
   "id": "bd2f35ad",
   "metadata": {},
   "outputs": [],
   "source": [
    "text_splitter=RecursiveCharacterTextSplitter(chunk_size=200,chunk_overlap=20)\n",
    "split_doc=text_splitter.split_documents(doc)"
   ]
  },
  {
   "cell_type": "code",
   "execution_count": 7,
   "id": "f52fe92d",
   "metadata": {},
   "outputs": [],
   "source": [
    "from langchain_openai import OpenAIEmbeddings\n",
    "embeddings=OpenAIEmbeddings(\n",
    "    model=\"text-embedding-3-small\"\n",
    ")"
   ]
  },
  {
   "cell_type": "code",
   "execution_count": null,
   "id": "71874994",
   "metadata": {},
   "outputs": [
    {
     "data": {
      "text/plain": [
       "<langchain_community.vectorstores.chroma.Chroma at 0x1acb6d4f110>"
      ]
     },
     "execution_count": 13,
     "metadata": {},
     "output_type": "execute_result"
    }
   ],
   "source": [
    "# store in chromadb and save\n",
    "vectordb=Chroma.from_documents(split_doc,embeddings,persist_directory=\"./chroma_db\")\n",
    "vectordb"
   ]
  },
  {
   "cell_type": "code",
   "execution_count": 14,
   "id": "f84eecde",
   "metadata": {},
   "outputs": [
    {
     "name": "stderr",
     "output_type": "stream",
     "text": [
      "C:\\Users\\PC\\AppData\\Local\\Temp\\ipykernel_10956\\2516539939.py:2: LangChainDeprecationWarning: The class `Chroma` was deprecated in LangChain 0.2.9 and will be removed in 1.0. An updated version of the class exists in the :class:`~langchain-chroma package and should be used instead. To use it run `pip install -U :class:`~langchain-chroma` and import as `from :class:`~langchain_chroma import Chroma``.\n",
      "  db3=Chroma(persist_directory=\"./chroma_db\",embedding_function=embeddings)\n"
     ]
    }
   ],
   "source": [
    "# load it\n",
    "db3=Chroma(persist_directory=\"./chroma_db\",embedding_function=embeddings)"
   ]
  },
  {
   "cell_type": "code",
   "execution_count": 15,
   "id": "49042090",
   "metadata": {},
   "outputs": [
    {
     "data": {
      "text/plain": [
       "[Document(metadata={'source': 'sample.txt'}, page_content='Agentic AI refers to a new generation of artificial intelligence systems that act with autonomy and purpose. Unlike traditional AI models that follow predefined instructions or respond only to user'),\n",
       " Document(metadata={'source': 'sample.txt'}, page_content='act intentionally and adaptively in dynamic environments. This makes agentic AI more flexible and capable of handling complex, real-world problems where constant human direction is not possible.'),\n",
       " Document(metadata={'source': 'sample.txt'}, page_content='only to user inputs, agentic AI can independently make decisions, plan actions, and execute tasks to achieve specific goals. These systems are designed with agencyâ€”the ability to act intentionally'),\n",
       " Document(metadata={'source': 'sample.txt'}, page_content='The use of agentic AI is expanding across many domains, including virtual assistants, autonomous vehicles, robotics, and workflow automation. In business, it can streamline operations by acting as an')]"
      ]
     },
     "execution_count": 15,
     "metadata": {},
     "output_type": "execute_result"
    }
   ],
   "source": [
    "db3.similarity_search(\"What is agentic ai?\")"
   ]
  },
  {
   "cell_type": "code",
   "execution_count": 17,
   "id": "349565e6",
   "metadata": {},
   "outputs": [
    {
     "data": {
      "text/plain": [
       "'Agentic AI refers to a new generation of artificial intelligence systems that act with autonomy and purpose. Unlike traditional AI models that follow predefined instructions or respond only to user'"
      ]
     },
     "execution_count": 17,
     "metadata": {},
     "output_type": "execute_result"
    }
   ],
   "source": [
    "# retriver\n",
    "retriever=db3.as_retriever()\n",
    "retriever.invoke(\"What is agentic ai\")[0].page_content"
   ]
  },
  {
   "cell_type": "code",
   "execution_count": null,
   "id": "2abbc9e0",
   "metadata": {},
   "outputs": [],
   "source": []
  }
 ],
 "metadata": {
  "kernelspec": {
   "display_name": "venv",
   "language": "python",
   "name": "python3"
  },
  "language_info": {
   "codemirror_mode": {
    "name": "ipython",
    "version": 3
   },
   "file_extension": ".py",
   "mimetype": "text/x-python",
   "name": "python",
   "nbconvert_exporter": "python",
   "pygments_lexer": "ipython3",
   "version": "3.13.2"
  }
 },
 "nbformat": 4,
 "nbformat_minor": 5
}
