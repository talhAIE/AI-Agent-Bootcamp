{
 "cells": [
  {
   "cell_type": "markdown",
   "id": "14fafb3f",
   "metadata": {},
   "source": [
    "# simple GenAI app"
   ]
  },
  {
   "cell_type": "code",
   "execution_count": 1,
   "id": "f2478d3a",
   "metadata": {},
   "outputs": [],
   "source": [
    "import os\n",
    "from dotenv import load_dotenv\n",
    "load_dotenv()\n",
    "\n",
    "os.environ[\"OPENAI_API_KEY\"]=os.getenv(\"OPENAI_API_KEY\")\n",
    "os.environ[\"LANGCHAIN_API_KEY\"]=os.getenv(\"LANGCHAIN_API_KEY\")\n",
    "os.environ[\"LANGCHAIN_TRACING_V2\"]=\"true\"\n",
    "os.environ[\"LANGCHAIN_PROJECT\"]= os.getenv(\"LANGCHAIN_PROJECT\")"
   ]
  },
  {
   "cell_type": "code",
   "execution_count": null,
   "id": "89382453",
   "metadata": {},
   "outputs": [],
   "source": [
    "# data ingestion\n",
    "from langchain_community.document_loaders import WebBaseLoader\n",
    "loader= WebBaseLoader(web_path=\"https://python.langchain.com/docs/versions/v0_3/\")\n",
    "doc=loader.load()"
   ]
  },
  {
   "cell_type": "code",
   "execution_count": 5,
   "id": "8c749b79",
   "metadata": {},
   "outputs": [
    {
     "data": {
      "text/plain": [
       "1"
      ]
     },
     "execution_count": 5,
     "metadata": {},
     "output_type": "execute_result"
    }
   ],
   "source": [
    "len(doc)"
   ]
  },
  {
   "cell_type": "code",
   "execution_count": 6,
   "id": "02fa7d8c",
   "metadata": {},
   "outputs": [],
   "source": [
    "# text splitter\n",
    "from langchain_text_splitters import RecursiveCharacterTextSplitter\n",
    "text_splitter=RecursiveCharacterTextSplitter(chunk_size=500,chunk_overlap=20)\n",
    "split_doc=text_splitter.split_documents(doc)"
   ]
  },
  {
   "cell_type": "code",
   "execution_count": 8,
   "id": "e8014938",
   "metadata": {},
   "outputs": [
    {
     "data": {
      "text/plain": [
       "44"
      ]
     },
     "execution_count": 8,
     "metadata": {},
     "output_type": "execute_result"
    }
   ],
   "source": [
    "len(split_doc)"
   ]
  },
  {
   "cell_type": "code",
   "execution_count": 9,
   "id": "6794c12d",
   "metadata": {},
   "outputs": [
    {
     "data": {
      "text/plain": [
       "<langchain_community.vectorstores.faiss.FAISS at 0x23676e9f8c0>"
      ]
     },
     "execution_count": 9,
     "metadata": {},
     "output_type": "execute_result"
    }
   ],
   "source": [
    "# embedding and vector store\n",
    "from langchain_openai import OpenAIEmbeddings\n",
    "from langchain_community.vectorstores import FAISS\n",
    "\n",
    "embeddings=OpenAIEmbeddings(\n",
    "    model=\"text-embedding-3-small\"\n",
    ")\n",
    "\n",
    "db=FAISS.from_documents(split_doc,embeddings)\n",
    "db"
   ]
  },
  {
   "cell_type": "code",
   "execution_count": 10,
   "id": "bf7f5bba",
   "metadata": {},
   "outputs": [
    {
     "data": {
      "text/plain": [
       "[Document(id='b36e6ac8-33cf-4bba-959f-24953e00b3e4', metadata={'source': 'https://python.langchain.com/docs/versions/v0_3/', 'title': 'LangChain v0.3 | 🦜️🔗 LangChain', 'description': 'Last updated: 09.16.24', 'language': 'en'}, page_content=\"Last updated: 09.16.24\\nWhat's changed\\u200b\"),\n",
       " Document(id='560b8542-d901-4120-8c39-618af3611a34', metadata={'source': 'https://python.langchain.com/docs/versions/v0_3/', 'title': 'LangChain v0.3 | 🦜️🔗 LangChain', 'description': 'Last updated: 09.16.24', 'language': 'en'}, page_content='Added utilities for interacting with chat models: universal model constructor, rate limiter, message utilities,\\nAdded the ability to dispatch custom events.\\nRevamped integration docs and API reference. Read more here.\\nMarked as deprecated a number of legacy chains and added migration guides for all of them. These are slated for removal in langchain 1.0.0. See the deprecated chains and associated migration guides here.'),\n",
       " Document(id='6f97b60e-20dc-476d-b7b9-2eef405719dd', metadata={'source': 'https://python.langchain.com/docs/versions/v0_3/', 'title': 'LangChain v0.3 | 🦜️🔗 LangChain', 'description': 'Last updated: 09.16.24', 'language': 'en'}, page_content=\"How to update your code\\u200b\\nIf you're using langchain / langchain-community / langchain-core 0.0 or 0.1, we recommend that you first upgrade to 0.2.\\nIf you're using langgraph, upgrade to langgraph>=0.2.20,<0.3. This will work with either 0.2 or 0.3 versions of all the base packages.\\nHere is a complete list of all packages that have been released and what we recommend upgrading your version constraints to.\\nAny package that now requires langchain-core 0.3 had a minor version bump.\"),\n",
       " Document(id='efd33856-725d-4938-995e-2cdce3e2afc3', metadata={'source': 'https://python.langchain.com/docs/versions/v0_3/', 'title': 'LangChain v0.3 | 🦜️🔗 LangChain', 'description': 'Last updated: 09.16.24', 'language': 'en'}, page_content='All packages have been upgraded from Pydantic 1 to Pydantic 2 internally. Use of Pydantic 2 in user code is fully supported with all packages without the need for bridges like langchain_core.pydantic_v1 or pydantic.v1.\\nPydantic 1 will no longer be supported as it reached its end-of-life in June 2024.\\nPython 3.8 will no longer be supported as its end-of-life is October 2024.\\n\\nThese are the only breaking changes.\\nWhat’s new\\u200b\\nThe following features have been added during the development of 0.2.x:')]"
      ]
     },
     "execution_count": 10,
     "metadata": {},
     "output_type": "execute_result"
    }
   ],
   "source": [
    "# query from a vector store db\n",
    "query=\"Whats changes in v0.3\"\n",
    "result=db.similarity_search(query)\n",
    "result"
   ]
  },
  {
   "cell_type": "code",
   "execution_count": 11,
   "id": "ed82cec1",
   "metadata": {},
   "outputs": [
    {
     "data": {
      "text/plain": [
       "\"Last updated: 09.16.24\\nWhat's changed\\u200b\""
      ]
     },
     "execution_count": 11,
     "metadata": {},
     "output_type": "execute_result"
    }
   ],
   "source": [
    "result[0].page_content"
   ]
  },
  {
   "cell_type": "code",
   "execution_count": 12,
   "id": "a8c24efe",
   "metadata": {},
   "outputs": [
    {
     "data": {
      "text/plain": [
       "'Added utilities for interacting with chat models: universal model constructor, rate limiter, message utilities,\\nAdded the ability to dispatch custom events.\\nRevamped integration docs and API reference. Read more here.\\nMarked as deprecated a number of legacy chains and added migration guides for all of them. These are slated for removal in langchain 1.0.0. See the deprecated chains and associated migration guides here.'"
      ]
     },
     "execution_count": 12,
     "metadata": {},
     "output_type": "execute_result"
    }
   ],
   "source": [
    "result[1].page_content"
   ]
  },
  {
   "cell_type": "code",
   "execution_count": null,
   "id": "4fda2283",
   "metadata": {},
   "outputs": [],
   "source": [
    "## Retrieval Chain, Document Chain \n"
   ]
  }
 ],
 "metadata": {
  "kernelspec": {
   "display_name": "venv",
   "language": "python",
   "name": "python3"
  },
  "language_info": {
   "codemirror_mode": {
    "name": "ipython",
    "version": 3
   },
   "file_extension": ".py",
   "mimetype": "text/x-python",
   "name": "python",
   "nbconvert_exporter": "python",
   "pygments_lexer": "ipython3",
   "version": "3.13.2"
  }
 },
 "nbformat": 4,
 "nbformat_minor": 5
}
