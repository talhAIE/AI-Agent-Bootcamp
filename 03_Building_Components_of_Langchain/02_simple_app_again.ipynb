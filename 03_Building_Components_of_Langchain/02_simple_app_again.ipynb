{
 "cells": [
  {
   "cell_type": "markdown",
   "id": "19f3f1a0",
   "metadata": {},
   "source": [
    "# Practicing own"
   ]
  },
  {
   "cell_type": "code",
   "execution_count": 1,
   "id": "8ee26072",
   "metadata": {},
   "outputs": [],
   "source": [
    "import os\n",
    "from dotenv import load_dotenv\n",
    "load_dotenv()\n",
    "\n",
    "os.environ[\"OPENAI_API_KEY\"]=os.getenv(\"OPENAI_API_KEY\")\n",
    "os.environ[\"LANGCHAIN_API_KEY\"]=os.getenv(\"LANGCHAIN_API_KEY\")\n",
    "os.environ[\"LANGCHAIN_TRACING_V2\"]=\"true\"\n",
    "os.environ[\"LANGCHAIN_PROJECT\"]= os.getenv(\"LANGCHAIN_PROJECT\")"
   ]
  },
  {
   "cell_type": "markdown",
   "id": "3c617f71",
   "metadata": {},
   "source": [
    "# loader"
   ]
  },
  {
   "cell_type": "code",
   "execution_count": 2,
   "id": "3792a888",
   "metadata": {},
   "outputs": [
    {
     "name": "stderr",
     "output_type": "stream",
     "text": [
      "USER_AGENT environment variable not set, consider setting it to identify your requests.\n"
     ]
    }
   ],
   "source": [
    "# data ingestion\n",
    "from langchain_community.document_loaders import WebBaseLoader\n",
    "loader= WebBaseLoader(web_path=\"https://python.langchain.com/docs/versions/v0_3/\")\n",
    "doc=loader.load()"
   ]
  },
  {
   "cell_type": "markdown",
   "id": "592238b3",
   "metadata": {},
   "source": [
    "# splitting text"
   ]
  },
  {
   "cell_type": "code",
   "execution_count": 3,
   "id": "a34de3e5",
   "metadata": {},
   "outputs": [
    {
     "data": {
      "text/plain": [
       "<langchain_text_splitters.character.RecursiveCharacterTextSplitter at 0x27d29577b60>"
      ]
     },
     "execution_count": 3,
     "metadata": {},
     "output_type": "execute_result"
    }
   ],
   "source": [
    "from langchain_text_splitters import RecursiveCharacterTextSplitter\n",
    "splitter=RecursiveCharacterTextSplitter(chunk_size=200,chunk_overlap=20)\n",
    "splitter"
   ]
  },
  {
   "cell_type": "code",
   "execution_count": 4,
   "id": "1dfbddbc",
   "metadata": {},
   "outputs": [],
   "source": [
    "split_doc=splitter.split_documents(doc)"
   ]
  },
  {
   "cell_type": "code",
   "execution_count": 5,
   "id": "417616f8",
   "metadata": {},
   "outputs": [
    {
     "data": {
      "text/plain": [
       "111"
      ]
     },
     "execution_count": 5,
     "metadata": {},
     "output_type": "execute_result"
    }
   ],
   "source": [
    "len(split_doc)"
   ]
  },
  {
   "cell_type": "markdown",
   "id": "729e0d2b",
   "metadata": {},
   "source": [
    "# Embeddings and vector store"
   ]
  },
  {
   "cell_type": "code",
   "execution_count": 6,
   "id": "f67a272c",
   "metadata": {},
   "outputs": [
    {
     "data": {
      "text/plain": [
       "<langchain_community.vectorstores.faiss.FAISS at 0x27d53bc1fd0>"
      ]
     },
     "execution_count": 6,
     "metadata": {},
     "output_type": "execute_result"
    }
   ],
   "source": [
    "from langchain_openai import OpenAIEmbeddings\n",
    "from langchain_community.vectorstores import FAISS\n",
    "embeddings=OpenAIEmbeddings(\n",
    "    model='text-embedding-3-small'\n",
    ")\n",
    "\n",
    "vector_store=FAISS.from_documents(\n",
    "    split_doc,embeddings\n",
    ")\n",
    "vector_store"
   ]
  },
  {
   "cell_type": "markdown",
   "id": "0f273a0c",
   "metadata": {},
   "source": [
    "# document chain and retriever chain"
   ]
  },
  {
   "cell_type": "code",
   "execution_count": 15,
   "id": "6d3d659d",
   "metadata": {},
   "outputs": [],
   "source": [
    "from langchain_core.prompts import ChatPromptTemplate\n",
    "prompt=ChatPromptTemplate.from_template(\n",
    "    \"\"\"Answer the following questions only based on context provided.\n",
    "    <context>\n",
    "    {context}\n",
    "    </context>\n",
    "    question: {input}\n",
    "    \"\"\"\n",
    ")\n"
   ]
  },
  {
   "cell_type": "code",
   "execution_count": 16,
   "id": "2b273cfe",
   "metadata": {},
   "outputs": [],
   "source": [
    "from langchain_openai import ChatOpenAI\n",
    "llm=ChatOpenAI(\n",
    "    model='gpt-3.5-turbo',\n",
    ")"
   ]
  },
  {
   "cell_type": "code",
   "execution_count": null,
   "id": "a371a7af",
   "metadata": {},
   "outputs": [],
   "source": [
    "# document chain : To give context to the prompt and get response from the llm\n",
    "from langchain.chains.combine_documents import create_stuff_documents_chain\n",
    "\n",
    "document_chain=create_stuff_documents_chain(llm,prompt)"
   ]
  },
  {
   "cell_type": "code",
   "execution_count": 20,
   "id": "517550f1",
   "metadata": {},
   "outputs": [],
   "source": [
    "# retriver chain to get the response from the vector store\n",
    "from langchain.chains import create_retrieval_chain\n",
    "retriever=vector_store.as_retriever(\n",
    "    search_type=\"similarity\",\n",
    "    search_kwargs={\"k\":3}\n",
    ")\n",
    "\n",
    "retriever_chain=create_retrieval_chain(retriever,document_chain)"
   ]
  },
  {
   "cell_type": "code",
   "execution_count": 21,
   "id": "87836ae7",
   "metadata": {},
   "outputs": [],
   "source": [
    "# get response from the llm\n",
    "result=retriever_chain.invoke({\n",
    "    \"input\":\"what is the changes in the new version of langchain?\"\n",
    "})"
   ]
  },
  {
   "cell_type": "code",
   "execution_count": 22,
   "id": "cd810f7e",
   "metadata": {},
   "outputs": [
    {
     "data": {
      "text/plain": [
       "{'input': 'what is the changes in the new version of langchain?',\n",
       " 'context': [Document(id='50187e72-b7ba-4a7e-9528-e340d7ab4743', metadata={'source': 'https://python.langchain.com/docs/versions/v0_3/', 'title': 'LangChain v0.3 | 🦜️🔗 LangChain', 'description': 'Last updated: 09.16.24', 'language': 'en'}, page_content='Any package that is now compatible with both langchain-core 0.2 and 0.3 had a patch version bump.\\nYou can use the langchain-cli to update deprecated imports automatically.'),\n",
       "  Document(id='6f9d03f1-e5aa-4ffb-90c0-6fd3f419cb4d', metadata={'source': 'https://python.langchain.com/docs/versions/v0_3/', 'title': 'LangChain v0.3 | 🦜️🔗 LangChain', 'description': 'Last updated: 09.16.24', 'language': 'en'}, page_content='LangChain v0.3 | 🦜️🔗 LangChain'),\n",
       "  Document(id='2f55f705-e45b-4868-bdf2-de8d03a42d25', metadata={'source': 'https://python.langchain.com/docs/versions/v0_3/', 'title': 'LangChain v0.3 | 🦜️🔗 LangChain', 'description': 'Last updated: 09.16.24', 'language': 'en'}, page_content='using langchain-cliInstallationUsageOther optionsCommunityLangChain ForumTwitterSlackGitHubOrganizationPythonJS/TSMoreHomepageBlogYouTubeCopyright © 2025 LangChain, Inc.')],\n",
       " 'answer': 'The changes in the new version of LangChain include compatibility with both langchain-core 0.2 and 0.3 with a patch version bump.'}"
      ]
     },
     "execution_count": 22,
     "metadata": {},
     "output_type": "execute_result"
    }
   ],
   "source": [
    "result"
   ]
  },
  {
   "cell_type": "code",
   "execution_count": 23,
   "id": "48730d7c",
   "metadata": {},
   "outputs": [
    {
     "data": {
      "text/plain": [
       "'The changes in the new version of LangChain include compatibility with both langchain-core 0.2 and 0.3 with a patch version bump.'"
      ]
     },
     "execution_count": 23,
     "metadata": {},
     "output_type": "execute_result"
    }
   ],
   "source": [
    "result['answer']"
   ]
  },
  {
   "cell_type": "code",
   "execution_count": null,
   "id": "29445bf9",
   "metadata": {},
   "outputs": [],
   "source": []
  }
 ],
 "metadata": {
  "kernelspec": {
   "display_name": "venv",
   "language": "python",
   "name": "python3"
  },
  "language_info": {
   "codemirror_mode": {
    "name": "ipython",
    "version": 3
   },
   "file_extension": ".py",
   "mimetype": "text/x-python",
   "name": "python",
   "nbconvert_exporter": "python",
   "pygments_lexer": "ipython3",
   "version": "3.13.2"
  }
 },
 "nbformat": 4,
 "nbformat_minor": 5
}
