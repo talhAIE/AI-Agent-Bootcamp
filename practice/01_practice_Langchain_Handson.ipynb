{
 "cells": [
  {
   "cell_type": "markdown",
   "id": "110181a7",
   "metadata": {},
   "source": [
    "# what we are going to do:\n",
    "- data ingestion\n",
    "- text splitting\n",
    "- embeddings\n",
    "- vector store\n",
    "- retriver\n",
    "- similarity search"
   ]
  },
  {
   "cell_type": "code",
   "execution_count": 4,
   "id": "2d9d288c",
   "metadata": {},
   "outputs": [],
   "source": [
    "from langchain_community.document_loaders import TextLoader\n",
    "loader=TextLoader(\"../02_Langchain_Hands_on/sample.txt\")\n",
    "documents=loader.load()"
   ]
  },
  {
   "cell_type": "code",
   "execution_count": 5,
   "id": "9320b1d5",
   "metadata": {},
   "outputs": [
    {
     "data": {
      "text/plain": [
       "[Document(metadata={'source': '../02_Langchain_Hands_on/sample.txt'}, page_content='Agentic AI refers to a new generation of artificial intelligence systems that act with autonomy and purpose. Unlike traditional AI models that follow predefined instructions or respond only to user inputs, agentic AI can independently make decisions, plan actions, and execute tasks to achieve specific goals. These systems are designed with agencyâ€”the ability to act intentionally and adaptively in dynamic environments. This makes agentic AI more flexible and capable of handling complex, real-world problems where constant human direction is not possible.\\n\\nOne of the key features of agentic AI is its ability to operate over long time horizons while maintaining awareness of its objectives. It can break down high-level goals into smaller sub-tasks, manage its progress, and learn from feedback or outcomes to improve performance. Agentic AI systems often combine various capabilities such as natural language processing, reasoning, memory, and planning. This allows them to not only interact with users in human-like ways but also to explore solutions, make informed choices, and even collaborate with other systems or agents when needed.\\n\\nThe use of agentic AI is expanding across many domains, including virtual assistants, autonomous vehicles, robotics, and workflow automation. In business, it can streamline operations by acting as an intelligent co-worker, capable of managing tasks and adapting to new challenges. In education or healthcare, it can provide personalized support based on ongoing interaction and goal tracking. As the technology matures, agentic AI is expected to play a central role in the future of human-AI collaboration, offering more intelligent, reliable, and proactive assistance.\\nAnother important aspect of agentic AI is its ability to continuously learn and improve through interaction with its environment. These systems can adjust their behavior based on new information, experiences, or feedback without needing to be reprogrammed. This makes them particularly useful in dynamic settings where conditions change frequently, such as customer service, logistics, or smart home systems. By learning from past actions and outcomes, agentic AI can become more efficient and accurate over time, ultimately delivering better results with less human oversight.\\n\\nThe development of agentic AI also raises important questions about safety, ethics, and control. Because these systems have a degree of autonomy, itâ€™s crucial to ensure they align with human values and behave predictably. Researchers and developers are working on building safeguards into agentic AI, such as setting boundaries on their actions, using transparent decision-making processes, and allowing human intervention when necessary. Ensuring trust and accountability in agentic AI is a major area of focus, especially as these systems begin to make decisions that could impact peopleâ€™s lives and well-being.\\n\\nIn the future, agentic AI is expected to become more advanced and widely integrated into both personal and professional settings. From managing daily tasks and making recommendations to running entire business processes or research projects, agentic AI has the potential to transform how we work and live. As it evolves, collaboration between humans and AI agents will become more natural and productive, leading to new possibilities in innovation, creativity, and problem-solving across various fields.')]"
      ]
     },
     "execution_count": 5,
     "metadata": {},
     "output_type": "execute_result"
    }
   ],
   "source": [
    "documents"
   ]
  },
  {
   "cell_type": "code",
   "execution_count": 6,
   "id": "64f15cab",
   "metadata": {},
   "outputs": [
    {
     "data": {
      "text/plain": [
       "1"
      ]
     },
     "execution_count": 6,
     "metadata": {},
     "output_type": "execute_result"
    }
   ],
   "source": [
    "len(documents)"
   ]
  },
  {
   "cell_type": "code",
   "execution_count": 7,
   "id": "116cd7cb",
   "metadata": {},
   "outputs": [],
   "source": [
    "# text splittig\n",
    "from langchain_text_splitters import RecursiveCharacterTextSplitter\n",
    "text_splitter=RecursiveCharacterTextSplitter(\n",
    "    chunk_size=100,\n",
    "    chunk_overlap=10\n",
    ")\n",
    "split_documents=text_splitter.split_documents(documents=documents)"
   ]
  },
  {
   "cell_type": "code",
   "execution_count": 8,
   "id": "568103ea",
   "metadata": {},
   "outputs": [
    {
     "data": {
      "text/plain": [
       "[Document(metadata={'source': '../02_Langchain_Hands_on/sample.txt'}, page_content='Agentic AI refers to a new generation of artificial intelligence systems that act with autonomy and'),\n",
       " Document(metadata={'source': '../02_Langchain_Hands_on/sample.txt'}, page_content='and purpose. Unlike traditional AI models that follow predefined instructions or respond only to'),\n",
       " Document(metadata={'source': '../02_Langchain_Hands_on/sample.txt'}, page_content='only to user inputs, agentic AI can independently make decisions, plan actions, and execute tasks'),\n",
       " Document(metadata={'source': '../02_Langchain_Hands_on/sample.txt'}, page_content='tasks to achieve specific goals. These systems are designed with agencyâ€”the ability to act'),\n",
       " Document(metadata={'source': '../02_Langchain_Hands_on/sample.txt'}, page_content='to act intentionally and adaptively in dynamic environments. This makes agentic AI more flexible'),\n",
       " Document(metadata={'source': '../02_Langchain_Hands_on/sample.txt'}, page_content='flexible and capable of handling complex, real-world problems where constant human direction is not'),\n",
       " Document(metadata={'source': '../02_Langchain_Hands_on/sample.txt'}, page_content='is not possible.'),\n",
       " Document(metadata={'source': '../02_Langchain_Hands_on/sample.txt'}, page_content='One of the key features of agentic AI is its ability to operate over long time horizons while'),\n",
       " Document(metadata={'source': '../02_Langchain_Hands_on/sample.txt'}, page_content='while maintaining awareness of its objectives. It can break down high-level goals into smaller'),\n",
       " Document(metadata={'source': '../02_Langchain_Hands_on/sample.txt'}, page_content='smaller sub-tasks, manage its progress, and learn from feedback or outcomes to improve performance.'),\n",
       " Document(metadata={'source': '../02_Langchain_Hands_on/sample.txt'}, page_content='Agentic AI systems often combine various capabilities such as natural language processing,'),\n",
       " Document(metadata={'source': '../02_Langchain_Hands_on/sample.txt'}, page_content='reasoning, memory, and planning. This allows them to not only interact with users in human-like'),\n",
       " Document(metadata={'source': '../02_Langchain_Hands_on/sample.txt'}, page_content='ways but also to explore solutions, make informed choices, and even collaborate with other systems'),\n",
       " Document(metadata={'source': '../02_Langchain_Hands_on/sample.txt'}, page_content='systems or agents when needed.'),\n",
       " Document(metadata={'source': '../02_Langchain_Hands_on/sample.txt'}, page_content='The use of agentic AI is expanding across many domains, including virtual assistants, autonomous'),\n",
       " Document(metadata={'source': '../02_Langchain_Hands_on/sample.txt'}, page_content='vehicles, robotics, and workflow automation. In business, it can streamline operations by acting as'),\n",
       " Document(metadata={'source': '../02_Langchain_Hands_on/sample.txt'}, page_content='acting as an intelligent co-worker, capable of managing tasks and adapting to new challenges. In'),\n",
       " Document(metadata={'source': '../02_Langchain_Hands_on/sample.txt'}, page_content='In education or healthcare, it can provide personalized support based on ongoing interaction and'),\n",
       " Document(metadata={'source': '../02_Langchain_Hands_on/sample.txt'}, page_content='and goal tracking. As the technology matures, agentic AI is expected to play a central role in the'),\n",
       " Document(metadata={'source': '../02_Langchain_Hands_on/sample.txt'}, page_content='in the future of human-AI collaboration, offering more intelligent, reliable, and proactive'),\n",
       " Document(metadata={'source': '../02_Langchain_Hands_on/sample.txt'}, page_content='proactive assistance.'),\n",
       " Document(metadata={'source': '../02_Langchain_Hands_on/sample.txt'}, page_content='Another important aspect of agentic AI is its ability to continuously learn and improve through'),\n",
       " Document(metadata={'source': '../02_Langchain_Hands_on/sample.txt'}, page_content='through interaction with its environment. These systems can adjust their behavior based on new'),\n",
       " Document(metadata={'source': '../02_Langchain_Hands_on/sample.txt'}, page_content='on new information, experiences, or feedback without needing to be reprogrammed. This makes them'),\n",
       " Document(metadata={'source': '../02_Langchain_Hands_on/sample.txt'}, page_content='them particularly useful in dynamic settings where conditions change frequently, such as customer'),\n",
       " Document(metadata={'source': '../02_Langchain_Hands_on/sample.txt'}, page_content='customer service, logistics, or smart home systems. By learning from past actions and outcomes,'),\n",
       " Document(metadata={'source': '../02_Langchain_Hands_on/sample.txt'}, page_content='outcomes, agentic AI can become more efficient and accurate over time, ultimately delivering better'),\n",
       " Document(metadata={'source': '../02_Langchain_Hands_on/sample.txt'}, page_content='better results with less human oversight.'),\n",
       " Document(metadata={'source': '../02_Langchain_Hands_on/sample.txt'}, page_content='The development of agentic AI also raises important questions about safety, ethics, and control.'),\n",
       " Document(metadata={'source': '../02_Langchain_Hands_on/sample.txt'}, page_content='control. Because these systems have a degree of autonomy, itâ€™s crucial to ensure they align with'),\n",
       " Document(metadata={'source': '../02_Langchain_Hands_on/sample.txt'}, page_content='with human values and behave predictably. Researchers and developers are working on building'),\n",
       " Document(metadata={'source': '../02_Langchain_Hands_on/sample.txt'}, page_content='building safeguards into agentic AI, such as setting boundaries on their actions, using transparent'),\n",
       " Document(metadata={'source': '../02_Langchain_Hands_on/sample.txt'}, page_content='decision-making processes, and allowing human intervention when necessary. Ensuring trust and'),\n",
       " Document(metadata={'source': '../02_Langchain_Hands_on/sample.txt'}, page_content='trust and accountability in agentic AI is a major area of focus, especially as these systems begin'),\n",
       " Document(metadata={'source': '../02_Langchain_Hands_on/sample.txt'}, page_content='begin to make decisions that could impact peopleâ€™s lives and well-being.'),\n",
       " Document(metadata={'source': '../02_Langchain_Hands_on/sample.txt'}, page_content='In the future, agentic AI is expected to become more advanced and widely integrated into both'),\n",
       " Document(metadata={'source': '../02_Langchain_Hands_on/sample.txt'}, page_content='into both personal and professional settings. From managing daily tasks and making recommendations'),\n",
       " Document(metadata={'source': '../02_Langchain_Hands_on/sample.txt'}, page_content='to running entire business processes or research projects, agentic AI has the potential to'),\n",
       " Document(metadata={'source': '../02_Langchain_Hands_on/sample.txt'}, page_content='to transform how we work and live. As it evolves, collaboration between humans and AI agents will'),\n",
       " Document(metadata={'source': '../02_Langchain_Hands_on/sample.txt'}, page_content='will become more natural and productive, leading to new possibilities in innovation, creativity,'),\n",
       " Document(metadata={'source': '../02_Langchain_Hands_on/sample.txt'}, page_content='and problem-solving across various fields.')]"
      ]
     },
     "execution_count": 8,
     "metadata": {},
     "output_type": "execute_result"
    }
   ],
   "source": [
    "split_documents"
   ]
  },
  {
   "cell_type": "code",
   "execution_count": 10,
   "id": "1a3c2ed4",
   "metadata": {},
   "outputs": [
    {
     "data": {
      "text/plain": [
       "41"
      ]
     },
     "execution_count": 10,
     "metadata": {},
     "output_type": "execute_result"
    }
   ],
   "source": [
    "len(split_documents)"
   ]
  },
  {
   "cell_type": "code",
   "execution_count": 11,
   "id": "dccfd2b5",
   "metadata": {},
   "outputs": [],
   "source": [
    "from langchain_openai import OpenAIEmbeddings\n",
    "from dotenv import load_dotenv\n",
    "load_dotenv()\n",
    "\n",
    "embeddings=OpenAIEmbeddings()"
   ]
  },
  {
   "cell_type": "code",
   "execution_count": 12,
   "id": "f4c38202",
   "metadata": {},
   "outputs": [],
   "source": [
    "# vector store FAISS\n",
    "\n",
    "from langchain.vectorstores import FAISS\n",
    "vs=FAISS.from_documents(documents=split_documents,\n",
    "                        embedding=embeddings)\n"
   ]
  },
  {
   "cell_type": "code",
   "execution_count": 13,
   "id": "7f9526d9",
   "metadata": {},
   "outputs": [
    {
     "data": {
      "text/plain": [
       "<langchain_community.vectorstores.faiss.FAISS at 0x1eab2ebacf0>"
      ]
     },
     "execution_count": 13,
     "metadata": {},
     "output_type": "execute_result"
    }
   ],
   "source": [
    "vs"
   ]
  },
  {
   "cell_type": "code",
   "execution_count": 15,
   "id": "359c3068",
   "metadata": {},
   "outputs": [],
   "source": [
    "# retrievers\n",
    "retriver=vs.as_retriever(search_type='similarity',\n",
    "                         search_kwargs={'k':4})\n",
    "\n"
   ]
  },
  {
   "cell_type": "code",
   "execution_count": 19,
   "id": "5c204636",
   "metadata": {},
   "outputs": [
    {
     "data": {
      "text/plain": [
       "[Document(id='a0d3e0fc-e532-4cdf-a733-fae0276e8346', metadata={'source': '../02_Langchain_Hands_on/sample.txt'}, page_content='The development of agentic AI also raises important questions about safety, ethics, and control.'),\n",
       " Document(id='0b622d18-0045-4a41-9cf4-ae1ca89adf5c', metadata={'source': '../02_Langchain_Hands_on/sample.txt'}, page_content='The use of agentic AI is expanding across many domains, including virtual assistants, autonomous'),\n",
       " Document(id='ecb79712-d5ff-4616-9509-45ddadca856b', metadata={'source': '../02_Langchain_Hands_on/sample.txt'}, page_content='only to user inputs, agentic AI can independently make decisions, plan actions, and execute tasks'),\n",
       " Document(id='b15b537f-b626-4afa-96d7-00bbe45a3a1c', metadata={'source': '../02_Langchain_Hands_on/sample.txt'}, page_content='In the future, agentic AI is expected to become more advanced and widely integrated into both')]"
      ]
     },
     "execution_count": 19,
     "metadata": {},
     "output_type": "execute_result"
    }
   ],
   "source": [
    "retriver.invoke(\"is Agentic AI is trending\")"
   ]
  },
  {
   "cell_type": "code",
   "execution_count": null,
   "id": "65662070",
   "metadata": {},
   "outputs": [],
   "source": []
  }
 ],
 "metadata": {
  "kernelspec": {
   "display_name": "venv",
   "language": "python",
   "name": "python3"
  },
  "language_info": {
   "codemirror_mode": {
    "name": "ipython",
    "version": 3
   },
   "file_extension": ".py",
   "mimetype": "text/x-python",
   "name": "python",
   "nbconvert_exporter": "python",
   "pygments_lexer": "ipython3",
   "version": "3.13.2"
  }
 },
 "nbformat": 4,
 "nbformat_minor": 5
}
